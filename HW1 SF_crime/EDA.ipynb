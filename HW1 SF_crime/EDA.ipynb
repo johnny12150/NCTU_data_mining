{
 "cells": [
  {
   "cell_type": "code",
   "execution_count": 9,
   "metadata": {
    "collapsed": true,
    "pycharm": {
     "is_executing": false
    }
   },
   "outputs": [],
   "source": [
    "import pandas as pd\n",
    "from sklearn.tree import DecisionTreeClassifier\n",
    "from sklearn.metrics import classification_report, confusion_matrix\n",
    "from sklearn import preprocessing\n",
    "from sklearn.model_selection import train_test_split\n",
    "from sklearn.model_selection import cross_val_score\n",
    "from sklearn import tree\n",
    "from subprocess import call\n",
    "import os\n",
    "import matplotlib.pyplot as plt\n",
    "import seaborn as sns\n",
    "import pydot\n",
    "\n",
    "# 1) 讀取資料\n",
    "train = pd.read_csv('./train.csv')\n",
    "test = pd.read_csv('./test.csv')"
   ]
  },
  {
   "cell_type": "code",
   "execution_count": 10,
   "outputs": [
    {
     "name": "stdout",
     "text": [
      "Dates         0\nCategory      0\nDescript      0\nDayOfWeek     0\nPdDistrict    0\nResolution    0\nAddress       0\nX             0\nY             0\ndtype: int64\n--------------------\n"
     ],
     "output_type": "stream"
    },
    {
     "data": {
      "text/plain": "Id            0\nDates         0\nDayOfWeek     0\nPdDistrict    0\nAddress       0\nX             0\nY             0\ndtype: int64"
     },
     "metadata": {},
     "output_type": "execute_result",
     "execution_count": 10
    }
   ],
   "source": [
    "# 2-1) 檢查空值\n",
    "print(train.isna().sum())\n",
    "print('-'*20)\n",
    "test.isna().sum()"
   ],
   "metadata": {
    "collapsed": false,
    "pycharm": {
     "name": "#%%\n",
     "is_executing": false
    }
   }
  },
  {
   "cell_type": "code",
   "execution_count": 11,
   "outputs": [],
   "source": [
    "# 選用的特徵\n",
    "features = ['Dates', 'DayOfWeek', 'PdDistrict', 'X', 'Y' ]\n",
    "# 選用target\n",
    "label = ['Category']\n",
    "\n",
    "train_df = train[features].copy()\n",
    "label_df = train[label].copy()"
   ],
   "metadata": {
    "collapsed": false,
    "pycharm": {
     "name": "#%%\n",
     "is_executing": false
    }
   }
  },
  {
   "cell_type": "code",
   "execution_count": 12,
   "outputs": [
    {
     "name": "stderr",
     "text": [
      "C:\\Users\\Wade\\Anaconda3\\lib\\site-packages\\sklearn\\preprocessing\\label.py:235: DataConversionWarning: A column-vector y was passed when a 1d array was expected. Please change the shape of y to (n_samples, ), for example using ravel().\n  y = column_or_1d(y, warn=True)\n"
     ],
     "output_type": "stream"
    }
   ],
   "source": [
    "def preprocess(df):\n",
    "    # 2-2) one-hot\n",
    "    df_tmp = pd.get_dummies(df[['DayOfWeek', 'PdDistrict']])\n",
    "    # 2-3) 抓小時\n",
    "    df_tmp['Hours'] = pd.to_datetime(df['Dates']).dt.hour\n",
    "    # 2-4) 處理X, Y (旋轉後normalize)\n",
    "    df_tmp[['X', 'Y']] = df[['X', 'Y']].copy()   \n",
    "    scale = preprocessing.StandardScaler()\n",
    "    df_tmp[['X', 'Y']] = scale.fit_transform(df_tmp[['X', 'Y']])\n",
    "    \n",
    "    return df_tmp\n",
    "\n",
    "# feature的轉換\n",
    "train_ohe = preprocess(train_df)\n",
    "# label轉換\n",
    "le = preprocessing.LabelEncoder()\n",
    "label_ohe = le.fit_transform(label_df)"
   ],
   "metadata": {
    "collapsed": false,
    "pycharm": {
     "name": "#%%\n",
     "is_executing": false
    }
   }
  },
  {
   "cell_type": "code",
   "execution_count": 13,
   "outputs": [],
   "source": [
    "# 2-5) train/ test split \n",
    "X_train, X_test, y_train, y_test = train_test_split(train_ohe, label_ohe, test_size=0.25, random_state=42)\n",
    "\n",
    "# 3)  DecisionTree\n",
    "clf = DecisionTreeClassifier(random_state=0, max_depth=15)\n",
    "# cross_val_score(clf, X_train, y_train, cv=10)"
   ],
   "metadata": {
    "collapsed": false,
    "pycharm": {
     "name": "#%%\n",
     "is_executing": false
    }
   }
  },
  {
   "cell_type": "code",
   "execution_count": 14,
   "outputs": [
    {
     "name": "stderr",
     "text": [
      "C:\\Users\\Wade\\Anaconda3\\lib\\site-packages\\sklearn\\metrics\\classification.py:1143: UndefinedMetricWarning: Precision and F-score are ill-defined and being set to 0.0 in labels with no predicted samples.\n  'precision', 'predicted', average, warn_for)\nC:\\Users\\Wade\\Anaconda3\\lib\\site-packages\\sklearn\\metrics\\classification.py:1143: UndefinedMetricWarning: Precision and F-score are ill-defined and being set to 0.0 in labels with no predicted samples.\n  'precision', 'predicted', average, warn_for)\nC:\\Users\\Wade\\Anaconda3\\lib\\site-packages\\sklearn\\metrics\\classification.py:1143: UndefinedMetricWarning: Precision and F-score are ill-defined and being set to 0.0 in labels with no predicted samples.\n  'precision', 'predicted', average, warn_for)\n"
     ],
     "output_type": "stream"
    },
    {
     "data": {
      "text/plain": "0.2699931211363336"
     },
     "metadata": {},
     "output_type": "execute_result",
     "execution_count": 14
    }
   ],
   "source": [
    "clf.fit(X_train, y_train)\n",
    "# 4) Precision, Recall, Accuracy\n",
    "clf_predict = clf.predict(X_test)\n",
    "report = classification_report(y_test, clf_predict, target_names=le.classes_, output_dict=True)\n",
    "clf.score(X_test, y_test)"
   ],
   "metadata": {
    "collapsed": false,
    "pycharm": {
     "name": "#%%\n",
     "is_executing": false
    }
   }
  },
  {
   "cell_type": "code",
   "execution_count": 15,
   "outputs": [
    {
     "name": "stderr",
     "text": [
      "C:\\Users\\Wade\\Anaconda3\\lib\\site-packages\\sklearn\\metrics\\classification.py:1143: UndefinedMetricWarning: Precision and F-score are ill-defined and being set to 0.0 in labels with no predicted samples.\n  'precision', 'predicted', average, warn_for)\nC:\\Users\\Wade\\Anaconda3\\lib\\site-packages\\sklearn\\metrics\\classification.py:1143: UndefinedMetricWarning: Precision and F-score are ill-defined and being set to 0.0 in labels with no predicted samples.\n  'precision', 'predicted', average, warn_for)\nC:\\Users\\Wade\\Anaconda3\\lib\\site-packages\\sklearn\\metrics\\classification.py:1143: UndefinedMetricWarning: Precision and F-score are ill-defined and being set to 0.0 in labels with no predicted samples.\n  'precision', 'predicted', average, warn_for)\n"
     ],
     "output_type": "stream"
    },
    {
     "data": {
      "text/plain": "                             f1-score  precision    recall   support\nARSON                        0.004739   0.025000  0.002618     382.0\nASSAULT                      0.167660   0.180440  0.156570   19231.0\nBAD CHECKS                   0.000000   0.000000  0.000000      89.0\nBRIBERY                      0.000000   0.000000  0.000000      72.0\nBURGLARY                     0.063468   0.143183  0.040770    9247.0\nDISORDERLY CONDUCT           0.058209   0.121118  0.038310    1018.0\nDRIVING UNDER THE INFLUENCE  0.003195   0.024390  0.001709     585.0\nDRUG/NARCOTIC                0.356649   0.315381  0.410344   13457.0\nDRUNKENNESS                  0.003466   0.025641  0.001859    1076.0\nEMBEZZLEMENT                 0.006873   0.058824  0.003650     274.0\nEXTORTION                    0.000000   0.000000  0.000000      58.0\nFAMILY OFFENSES              0.000000   0.000000  0.000000     106.0\nFORGERY/COUNTERFEITING       0.046497   0.146045  0.027650    2604.0\nFRAUD                        0.021768   0.105150  0.012141    4036.0\nGAMBLING                     0.000000   0.000000  0.000000      43.0\nKIDNAPPING                   0.006932   0.071429  0.003643     549.0\nLARCENY/THEFT                0.427863   0.308576  0.697491   43883.0\nLIQUOR LAWS                  0.030534   0.166667  0.016807     476.0\nLOITERING                    0.077135   0.291667  0.044444     315.0\nMISSING PERSON               0.367189   0.531057  0.280604    6429.0\nNON-CRIMINAL                 0.181827   0.213880  0.158130   23076.0\nOTHER OFFENSES               0.272108   0.228252  0.336827   31393.0\nPORNOGRAPHY/OBSCENE MAT      0.000000   0.000000  0.000000       4.0\nPROSTITUTION                 0.536619   0.477459  0.612513    1902.0\nRECOVERED VEHICLE            0.000000   0.000000  0.000000     760.0\nROBBERY                      0.014490   0.093555  0.007853    5730.0\nRUNAWAY                      0.263314   0.494444  0.179435     496.0\nSECONDARY CODES              0.000000   0.000000  0.000000    2555.0\nSEX OFFENSES FORCIBLE        0.012238   0.189189  0.006323    1107.0\nSEX OFFENSES NON FORCIBLE    0.000000   0.000000  0.000000      35.0\nSTOLEN PROPERTY              0.001729   0.111111  0.000871    1148.0\nSUICIDE                      0.000000   0.000000  0.000000     125.0\nSUSPICIOUS OCC               0.007088   0.092652  0.003685    7870.0\nTREA                         0.000000   0.000000  0.000000       2.0\nTRESPASS                     0.019342   0.111111  0.010593    1888.0\nVANDALISM                    0.032488   0.138522  0.018402   11412.0\nVEHICLE THEFT                0.160704   0.209470  0.130357   13371.0\nWARRANTS                     0.036565   0.143506  0.020952   10548.0\nWEAPON LAWS                  0.002717   0.063830  0.001388    2161.0\nmicro avg                    0.269993   0.269993  0.269993  219513.0\nmacro avg                    0.081626   0.130296  0.082716  219513.0\nweighted avg                 0.214377   0.220029  0.269993  219513.0",
      "text/html": "<div>\n<style scoped>\n    .dataframe tbody tr th:only-of-type {\n        vertical-align: middle;\n    }\n\n    .dataframe tbody tr th {\n        vertical-align: top;\n    }\n\n    .dataframe thead th {\n        text-align: right;\n    }\n</style>\n<table border=\"1\" class=\"dataframe\">\n  <thead>\n    <tr style=\"text-align: right;\">\n      <th></th>\n      <th>f1-score</th>\n      <th>precision</th>\n      <th>recall</th>\n      <th>support</th>\n    </tr>\n  </thead>\n  <tbody>\n    <tr>\n      <th>ARSON</th>\n      <td>0.004739</td>\n      <td>0.025000</td>\n      <td>0.002618</td>\n      <td>382.0</td>\n    </tr>\n    <tr>\n      <th>ASSAULT</th>\n      <td>0.167660</td>\n      <td>0.180440</td>\n      <td>0.156570</td>\n      <td>19231.0</td>\n    </tr>\n    <tr>\n      <th>BAD CHECKS</th>\n      <td>0.000000</td>\n      <td>0.000000</td>\n      <td>0.000000</td>\n      <td>89.0</td>\n    </tr>\n    <tr>\n      <th>BRIBERY</th>\n      <td>0.000000</td>\n      <td>0.000000</td>\n      <td>0.000000</td>\n      <td>72.0</td>\n    </tr>\n    <tr>\n      <th>BURGLARY</th>\n      <td>0.063468</td>\n      <td>0.143183</td>\n      <td>0.040770</td>\n      <td>9247.0</td>\n    </tr>\n    <tr>\n      <th>DISORDERLY CONDUCT</th>\n      <td>0.058209</td>\n      <td>0.121118</td>\n      <td>0.038310</td>\n      <td>1018.0</td>\n    </tr>\n    <tr>\n      <th>DRIVING UNDER THE INFLUENCE</th>\n      <td>0.003195</td>\n      <td>0.024390</td>\n      <td>0.001709</td>\n      <td>585.0</td>\n    </tr>\n    <tr>\n      <th>DRUG/NARCOTIC</th>\n      <td>0.356649</td>\n      <td>0.315381</td>\n      <td>0.410344</td>\n      <td>13457.0</td>\n    </tr>\n    <tr>\n      <th>DRUNKENNESS</th>\n      <td>0.003466</td>\n      <td>0.025641</td>\n      <td>0.001859</td>\n      <td>1076.0</td>\n    </tr>\n    <tr>\n      <th>EMBEZZLEMENT</th>\n      <td>0.006873</td>\n      <td>0.058824</td>\n      <td>0.003650</td>\n      <td>274.0</td>\n    </tr>\n    <tr>\n      <th>EXTORTION</th>\n      <td>0.000000</td>\n      <td>0.000000</td>\n      <td>0.000000</td>\n      <td>58.0</td>\n    </tr>\n    <tr>\n      <th>FAMILY OFFENSES</th>\n      <td>0.000000</td>\n      <td>0.000000</td>\n      <td>0.000000</td>\n      <td>106.0</td>\n    </tr>\n    <tr>\n      <th>FORGERY/COUNTERFEITING</th>\n      <td>0.046497</td>\n      <td>0.146045</td>\n      <td>0.027650</td>\n      <td>2604.0</td>\n    </tr>\n    <tr>\n      <th>FRAUD</th>\n      <td>0.021768</td>\n      <td>0.105150</td>\n      <td>0.012141</td>\n      <td>4036.0</td>\n    </tr>\n    <tr>\n      <th>GAMBLING</th>\n      <td>0.000000</td>\n      <td>0.000000</td>\n      <td>0.000000</td>\n      <td>43.0</td>\n    </tr>\n    <tr>\n      <th>KIDNAPPING</th>\n      <td>0.006932</td>\n      <td>0.071429</td>\n      <td>0.003643</td>\n      <td>549.0</td>\n    </tr>\n    <tr>\n      <th>LARCENY/THEFT</th>\n      <td>0.427863</td>\n      <td>0.308576</td>\n      <td>0.697491</td>\n      <td>43883.0</td>\n    </tr>\n    <tr>\n      <th>LIQUOR LAWS</th>\n      <td>0.030534</td>\n      <td>0.166667</td>\n      <td>0.016807</td>\n      <td>476.0</td>\n    </tr>\n    <tr>\n      <th>LOITERING</th>\n      <td>0.077135</td>\n      <td>0.291667</td>\n      <td>0.044444</td>\n      <td>315.0</td>\n    </tr>\n    <tr>\n      <th>MISSING PERSON</th>\n      <td>0.367189</td>\n      <td>0.531057</td>\n      <td>0.280604</td>\n      <td>6429.0</td>\n    </tr>\n    <tr>\n      <th>NON-CRIMINAL</th>\n      <td>0.181827</td>\n      <td>0.213880</td>\n      <td>0.158130</td>\n      <td>23076.0</td>\n    </tr>\n    <tr>\n      <th>OTHER OFFENSES</th>\n      <td>0.272108</td>\n      <td>0.228252</td>\n      <td>0.336827</td>\n      <td>31393.0</td>\n    </tr>\n    <tr>\n      <th>PORNOGRAPHY/OBSCENE MAT</th>\n      <td>0.000000</td>\n      <td>0.000000</td>\n      <td>0.000000</td>\n      <td>4.0</td>\n    </tr>\n    <tr>\n      <th>PROSTITUTION</th>\n      <td>0.536619</td>\n      <td>0.477459</td>\n      <td>0.612513</td>\n      <td>1902.0</td>\n    </tr>\n    <tr>\n      <th>RECOVERED VEHICLE</th>\n      <td>0.000000</td>\n      <td>0.000000</td>\n      <td>0.000000</td>\n      <td>760.0</td>\n    </tr>\n    <tr>\n      <th>ROBBERY</th>\n      <td>0.014490</td>\n      <td>0.093555</td>\n      <td>0.007853</td>\n      <td>5730.0</td>\n    </tr>\n    <tr>\n      <th>RUNAWAY</th>\n      <td>0.263314</td>\n      <td>0.494444</td>\n      <td>0.179435</td>\n      <td>496.0</td>\n    </tr>\n    <tr>\n      <th>SECONDARY CODES</th>\n      <td>0.000000</td>\n      <td>0.000000</td>\n      <td>0.000000</td>\n      <td>2555.0</td>\n    </tr>\n    <tr>\n      <th>SEX OFFENSES FORCIBLE</th>\n      <td>0.012238</td>\n      <td>0.189189</td>\n      <td>0.006323</td>\n      <td>1107.0</td>\n    </tr>\n    <tr>\n      <th>SEX OFFENSES NON FORCIBLE</th>\n      <td>0.000000</td>\n      <td>0.000000</td>\n      <td>0.000000</td>\n      <td>35.0</td>\n    </tr>\n    <tr>\n      <th>STOLEN PROPERTY</th>\n      <td>0.001729</td>\n      <td>0.111111</td>\n      <td>0.000871</td>\n      <td>1148.0</td>\n    </tr>\n    <tr>\n      <th>SUICIDE</th>\n      <td>0.000000</td>\n      <td>0.000000</td>\n      <td>0.000000</td>\n      <td>125.0</td>\n    </tr>\n    <tr>\n      <th>SUSPICIOUS OCC</th>\n      <td>0.007088</td>\n      <td>0.092652</td>\n      <td>0.003685</td>\n      <td>7870.0</td>\n    </tr>\n    <tr>\n      <th>TREA</th>\n      <td>0.000000</td>\n      <td>0.000000</td>\n      <td>0.000000</td>\n      <td>2.0</td>\n    </tr>\n    <tr>\n      <th>TRESPASS</th>\n      <td>0.019342</td>\n      <td>0.111111</td>\n      <td>0.010593</td>\n      <td>1888.0</td>\n    </tr>\n    <tr>\n      <th>VANDALISM</th>\n      <td>0.032488</td>\n      <td>0.138522</td>\n      <td>0.018402</td>\n      <td>11412.0</td>\n    </tr>\n    <tr>\n      <th>VEHICLE THEFT</th>\n      <td>0.160704</td>\n      <td>0.209470</td>\n      <td>0.130357</td>\n      <td>13371.0</td>\n    </tr>\n    <tr>\n      <th>WARRANTS</th>\n      <td>0.036565</td>\n      <td>0.143506</td>\n      <td>0.020952</td>\n      <td>10548.0</td>\n    </tr>\n    <tr>\n      <th>WEAPON LAWS</th>\n      <td>0.002717</td>\n      <td>0.063830</td>\n      <td>0.001388</td>\n      <td>2161.0</td>\n    </tr>\n    <tr>\n      <th>micro avg</th>\n      <td>0.269993</td>\n      <td>0.269993</td>\n      <td>0.269993</td>\n      <td>219513.0</td>\n    </tr>\n    <tr>\n      <th>macro avg</th>\n      <td>0.081626</td>\n      <td>0.130296</td>\n      <td>0.082716</td>\n      <td>219513.0</td>\n    </tr>\n    <tr>\n      <th>weighted avg</th>\n      <td>0.214377</td>\n      <td>0.220029</td>\n      <td>0.269993</td>\n      <td>219513.0</td>\n    </tr>\n  </tbody>\n</table>\n</div>"
     },
     "metadata": {},
     "output_type": "execute_result",
     "execution_count": 15
    }
   ],
   "source": [
    "pd.DataFrame.from_dict(classification_report(y_test, clf_predict, target_names=le.classes_, output_dict=True)).T"
   ],
   "metadata": {
    "collapsed": false,
    "pycharm": {
     "name": "#%%\n",
     "is_executing": false
    }
   }
  },
  {
   "cell_type": "code",
   "execution_count": 16,
   "outputs": [
    {
     "data": {
      "text/plain": "Text(0, 0.5, 'True')"
     },
     "metadata": {},
     "output_type": "execute_result",
     "execution_count": 16
    },
    {
     "data": {
      "text/plain": "<Figure size 432x288 with 2 Axes>",
      "image/png": "[encoded data removed]"
     },
     "metadata": {
      "needs_background": "light"
     },
     "output_type": "display_data"
    }
   ],
   "source": [
    "cm = confusion_matrix(y_test, clf_predict)\n",
    "fig = plt.figure()\n",
    "ax = fig.add_subplot(111)\n",
    "cax = ax.matshow(cm)\n",
    "plt.title('Confusion matrix of the classifier')\n",
    "fig.colorbar(cax)\n",
    "ax.set_xticklabels([''] + le.classes_)\n",
    "ax.set_yticklabels([''] + le.classes_)\n",
    "plt.xlabel('Predicted')\n",
    "plt.ylabel('True')"
   ],
   "metadata": {
    "collapsed": false,
    "pycharm": {
     "name": "#%%\n",
     "is_executing": false
    }
   }
  },
  {
   "cell_type": "code",
   "execution_count": 17,
   "outputs": [
    {
     "data": {
      "text/plain": "Text(0.5, 1.0, 'Confusion Matrix')"
     },
     "metadata": {},
     "output_type": "execute_result",
     "execution_count": 17
    },
    {
     "data": {
      "text/plain": "<Figure size 1440x504 with 2 Axes>",
      "image/png": "[encoded data removed]"
     },
     "metadata": {
      "needs_background": "light"
     },
     "output_type": "display_data"
    }
   ],
   "source": [
    "plt.figure(figsize=(20,7))\n",
    "ax= plt.subplot()\n",
    "sns.heatmap(cm, ax = ax)\n",
    "ax.set_xlabel('Predicted labels')\n",
    "ax.set_ylabel('True labels')\n",
    "ax.set_title('Confusion Matrix')\n",
    "# ax.xaxis.set_ticklabels([''] + le.classes_)\n",
    "# ax.yaxis.set_ticklabels([''] + le.classes_)"
   ],
   "metadata": {
    "collapsed": false,
    "pycharm": {
     "name": "#%%\n",
     "is_executing": false
    }
   }
  },
  {
   "cell_type": "code",
   "execution_count": 18,
   "outputs": [],
   "source": [
    "# 5) 決策樹的圖\n",
    "tree.export_graphviz(clf, out_file='./DCtree.dot', feature_names = train_ohe.columns, class_names = le.classes_, rounded = True, proportion = False, precision = 2, filled = True) \n",
    "# 用 graphviz 畫\n",
    "os.environ[\"PATH\"] += os.pathsep + 'C:Users/Wade/Anaconda3/Library/bin/graphviz/bin'\n",
    "# 15層的關係可能要畫個5分鐘\n",
    "# call(['dot', '-Tpng', 'DCtree.dot', '-o', 'DCtree.png', '-Gdpi=600'])\n",
    "# 在terminal用\n",
    "# !dot -Tpng DCtree.dot -o DCtree.png\n",
    "# 利用pydot轉換\n",
    "# (graph,) = pydot.graph_from_dot_file('./DCtree.dot')\n",
    "# graph.write_png('./DCtree.png')"
   ],
   "metadata": {
    "collapsed": false,
    "pycharm": {
     "name": "#%%\n",
     "is_executing": false
    }
   }
  },
  {
   "cell_type": "code",
   "execution_count": 18,
   "outputs": [],
   "source": [],
   "metadata": {
    "collapsed": false,
    "pycharm": {
     "name": "#%%\n",
     "is_executing": false
    }
   }
  }
 ],
 "metadata": {
  "kernelspec": {
   "display_name": "Python 3",
   "language": "python",
   "name": "python3"
  },
  "language_info": {
   "codemirror_mode": {
    "name": "ipython",
    "version": 2
   },
   "file_extension": ".py",
   "mimetype": "text/x-python",
   "name": "python",
   "nbconvert_exporter": "python",
   "pygments_lexer": "ipython2",
   "version": "2.7.6"
  },
  "pycharm": {
   "stem_cell": {
    "cell_type": "raw",
    "source": [],
    "metadata": {
     "collapsed": false
    }
   }
  }
 },
 "nbformat": 4,
 "nbformat_minor": 0
}